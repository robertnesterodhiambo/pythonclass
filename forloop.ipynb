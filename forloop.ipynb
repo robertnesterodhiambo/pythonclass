{
 "cells": [
  {
   "cell_type": "code",
   "execution_count": 1,
   "id": "66518873-7c80-49f0-846d-7f3f8c884102",
   "metadata": {
    "tags": []
   },
   "outputs": [],
   "source": [
    "# THE SQUARE\n",
    "import turtle\n",
    "bobby_turtle = turtle.Turtle()\n",
    "def Square():\n",
    "    bobby_turtle.forward(100)\n",
    "    bobby_turtle.right(90)\n",
    "    bobby_turtle.forward(100)\n",
    "    bobby_turtle.right(90)\n",
    "    bobby_turtle.forward(100)\n",
    "    bobby_turtle.right(90)\n",
    "    bobby_turtle.forward(100)\n",
    "    \n",
    "\n"
   ]
  },
  {
   "cell_type": "code",
   "execution_count": 2,
   "id": "f4ee781e-cff0-47dd-acda-f6059f596589",
   "metadata": {
    "tags": []
   },
   "outputs": [],
   "source": [
    "for count in range(8):\n",
    "  Square();"
   ]
  }
 ],
 "metadata": {
  "kernelspec": {
   "display_name": "Python 3 (ipykernel)",
   "language": "python",
   "name": "python3"
  },
  "language_info": {
   "codemirror_mode": {
    "name": "ipython",
    "version": 3
   },
   "file_extension": ".py",
   "mimetype": "text/x-python",
   "name": "python",
   "nbconvert_exporter": "python",
   "pygments_lexer": "ipython3",
   "version": "3.11.5"
  }
 },
 "nbformat": 4,
 "nbformat_minor": 5
}
