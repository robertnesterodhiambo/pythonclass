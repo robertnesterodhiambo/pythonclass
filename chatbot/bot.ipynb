{
 "cells": [
  {
   "cell_type": "code",
   "execution_count": null,
   "metadata": {},
   "outputs": [],
   "source": [
    "from llama_cpp import Llama\n",
    "\n",
    "# Path to your downloaded GGUF model\n",
    "MODEL_PATH = \"/home/dragon/Downloads/llama-2-7b.Q2_K.gguf\"\n",
    "\n",
    "# Load the model\n",
    "llm = Llama(model_path=MODEL_PATH)\n",
    "\n",
    "# Test the model\n",
    "response = llm(\"What is the capital of France?\")\n",
    "print(response[\"choices\"][0][\"text\"])\n"
   ]
  }
 ],
 "metadata": {
  "kernelspec": {
   "display_name": "Python 3",
   "language": "python",
   "name": "python3"
  },
  "language_info": {
   "name": "python",
   "version": "3.12.8"
  }
 },
 "nbformat": 4,
 "nbformat_minor": 2
}
