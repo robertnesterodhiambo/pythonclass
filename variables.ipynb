{
 "cells": [
  {
   "cell_type": "code",
   "execution_count": 2,
   "id": "a461cfd9-6079-4305-a497-2c0baa7ff01b",
   "metadata": {
    "tags": []
   },
   "outputs": [],
   "source": [
    "import turtle"
   ]
  },
  {
   "cell_type": "code",
   "execution_count": 3,
   "id": "bd9eda40-eba2-41ec-b997-db33531db6b1",
   "metadata": {
    "tags": []
   },
   "outputs": [
    {
     "name": "stdout",
     "output_type": "stream",
     "text": [
      "5\n"
     ]
    }
   ],
   "source": [
    "a = 5           \n",
    "print(a)"
   ]
  },
  {
   "cell_type": "code",
   "execution_count": 3,
   "id": "c337451d-dbc1-4386-9ec9-c13740e1804a",
   "metadata": {
    "tags": []
   },
   "outputs": [
    {
     "name": "stdout",
     "output_type": "stream",
     "text": [
      "654151.65841\n"
     ]
    }
   ],
   "source": [
    "a =654151.65841\n",
    "print(a)"
   ]
  },
  {
   "cell_type": "code",
   "execution_count": 4,
   "id": "ecfc0c7b-52fb-4029-ab8c-b15502662591",
   "metadata": {
    "tags": []
   },
   "outputs": [],
   "source": [
    "bobby_turtle = turtle.Turtle()"
   ]
  },
  {
   "cell_type": "code",
   "execution_count": 5,
   "id": "69faa2e6-9f41-4b8f-9b89-83b5aa1a4a62",
   "metadata": {
    "tags": []
   },
   "outputs": [],
   "source": [
    "bobby_turtle.forward(100)\n",
    "bobby_turtle.right(90)\n",
    "bobby_turtle.forward(100)\n",
    "bobby_turtle.right(90)\n",
    "bobby_turtle.forward(100)\n",
    "bobby_turtle.right(90)\n",
    "bobby_turtle.forward(100)"
   ]
  },
  {
   "cell_type": "code",
   "execution_count": 1,
   "id": "b1afba03",
   "metadata": {},
   "outputs": [
    {
     "ename": "SyntaxError",
     "evalue": "invalid syntax (884674293.py, line 1)",
     "output_type": "error",
     "traceback": [
      "\u001b[1;36m  Cell \u001b[1;32mIn[1], line 1\u001b[1;36m\u001b[0m\n\u001b[1;33m    python -m tkinter\u001b[0m\n\u001b[1;37m              ^\u001b[0m\n\u001b[1;31mSyntaxError\u001b[0m\u001b[1;31m:\u001b[0m invalid syntax\n"
     ]
    }
   ],
   "source": [
    "python -m tkinter\n"
   ]
  },
  {
   "cell_type": "code",
   "execution_count": null,
   "id": "d6e1607d",
   "metadata": {},
   "outputs": [],
   "source": []
  }
 ],
 "metadata": {
  "kernelspec": {
   "display_name": "Python 3 (ipykernel)",
   "language": "python",
   "name": "python3"
  },
  "language_info": {
   "codemirror_mode": {
    "name": "ipython",
    "version": 3
   },
   "file_extension": ".py",
   "mimetype": "text/x-python",
   "name": "python",
   "nbconvert_exporter": "python",
   "pygments_lexer": "ipython3",
   "version": "3.11.5"
  }
 },
 "nbformat": 4,
 "nbformat_minor": 5
}
