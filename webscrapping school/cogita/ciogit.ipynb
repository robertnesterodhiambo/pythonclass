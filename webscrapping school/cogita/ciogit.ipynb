{
 "cells": [
  {
   "cell_type": "code",
   "execution_count": null,
   "metadata": {},
   "outputs": [],
   "source": [
    "import requests\n",
    "\n",
    "# Base URL\n",
    "QOGITA_API_URL = \"https://api.qogita.com\"\n",
    "\n",
    "# Login credentials — use environment variables instead of hardcoding in real use\n",
    "QOGITA_EMAIL = \"jacek.budner@gmail.com\"\n",
    "QOGITA_PASSWORD = \"JB100noga!\"  # 🔒 Consider storing securely\n",
    "\n",
    "# Login to retrieve the token and active cart ID\n",
    "try:\n",
    "    response = requests.post(\n",
    "        url=f\"{QOGITA_API_URL}/auth/login/\",\n",
    "        json={\"email\": QOGITA_EMAIL, \"password\": QOGITA_PASSWORD}\n",
    "    )\n",
    "\n",
    "    response.raise_for_status()\n",
    "    data = response.json()\n",
    "\n",
    "    access_token = data[\"accessToken\"]\n",
    "    cart_qid = data[\"user\"][\"activeCartQid\"]\n",
    "\n",
    "    headers = {\n",
    "        \"Authorization\": f\"Bearer {access_token}\"\n",
    "    }\n",
    "\n",
    "    print(\"Login successful!\")\n",
    "    print(\"Access Token:\", access_token[:10] + \"...\")  # just to show it's retrieved\n",
    "    print(\"Active Cart QID:\", cart_qid)\n",
    "\n",
    "except requests.exceptions.RequestException as e:\n",
    "    print(\"Login failed:\", e)\n",
    "except KeyError:\n",
    "    print(\"Unexpected response structure:\", response.text)\n"
   ]
  },
  {
   "cell_type": "code",
   "execution_count": 3,
   "metadata": {},
   "outputs": [
    {
     "name": "stdout",
     "output_type": "stream",
     "text": [
      "{'gtin': '3360373063697', 'name': 'Cacharel Eau de Toilette for Women 30ml', 'slug': 'cacharel-amor-amor-30-ml-eau-de-toilette-womens-perfume', 'label': '30 Ml', 'category': {'name': 'Perfume & Cologne', 'slug': 'perfume-cologne', 'description': '', 'hscode': '33030010', 'qid': 'f480bbee-02e7-4964-846a-4d3d9a310a50'}, 'brand': {'name': 'Cacharel', 'slug': 'cacharel', 'description': '', 'qid': 'efb4ca3c-0153-4e3a-9f3a-6f702817fa96'}, 'dimensions': {'width': '0.0760', 'height': '0.0640', 'mass': 28, 'depth': '0.1020', 'qid': '415dddef-1ec5-464a-90df-b8e6aa5e8193'}, 'images': [{'url': 'https://static.prod.qogita.com/files/images/variants/3iis5LWveWCqWF56Care2N.jpg', 'alt': 'Cacharel Amor Amor Eau de Toilette for Women 30ml', 'qid': 'bb5586c2-395d-4928-b15d-a04e91883a15'}, {'url': 'https://static.prod.qogita.com/files/images/variants/cKonuvY4LiCjsEHFrQNJT8.jpg', 'alt': 'Cacharel Amor Amor Eau de Toilette for Women 30ml', 'qid': '948d79b2-c982-40d5-85fd-f16ea68a2a4c'}], 'price': None, 'priceCurrency': 'EUR', 'inventory': 632, 'delay': 3, 'popularity': '0.000021783', 'rating': 31, 'ratingCount': 6, 'qid': 'b047124e-c2b1-4953-841b-40ecb6f45c97', 'fid': 'GWnkxEJKrY', 'unit': 1, 'origin': 'FR', 'shippingFromCountries': ['IT'], 'sellerCount': 1, 'isWatchlisted': False, 'priceUpdatedAt': 1744999352757, 'isInStock': True}\n"
     ]
    }
   ],
   "source": [
    "print(variant)"
   ]
  }
 ],
 "metadata": {
  "kernelspec": {
   "display_name": "Python 3",
   "language": "python",
   "name": "python3"
  },
  "language_info": {
   "codemirror_mode": {
    "name": "ipython",
    "version": 3
   },
   "file_extension": ".py",
   "mimetype": "text/x-python",
   "name": "python",
   "nbconvert_exporter": "python",
   "pygments_lexer": "ipython3",
   "version": "3.13.2"
  }
 },
 "nbformat": 4,
 "nbformat_minor": 2
}
