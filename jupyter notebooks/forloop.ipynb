{
 "cells": [
  {
   "cell_type": "code",
   "execution_count": 1,
   "id": "66518873-7c80-49f0-846d-7f3f8c884102",
   "metadata": {
    "tags": []
   },
   "outputs": [],
   "source": [
    "# THE SQUARE\n",
    "import turtle\n",
    "bobby_turtle = turtle.Turtle()\n",
    "def Square():\n",
    "    bobby_turtle.forward(100)\n",
    "    bobby_turtle.right(90)\n",
    "    bobby_turtle.forward(100)\n",
    "    bobby_turtle.right(90)\n",
    "    bobby_turtle.forward(100)\n",
    "    bobby_turtle.right(90)\n",
    "    bobby_turtle.forward(100)\n",
    "    \n",
    "\n"
   ]
  },
  {
   "cell_type": "code",
   "execution_count": 2,
   "id": "f4ee781e-cff0-47dd-acda-f6059f596589",
   "metadata": {
    "tags": []
   },
   "outputs": [],
   "source": [
    "for count in range(8):\n",
    "  Square();"
   ]
  },
  {
   "cell_type": "raw",
   "id": "a372491a-7ec6-4f51-aaff-fee3ccfeedf6",
   "metadata": {
    "tags": []
   },
   "source": [
    "#data types\n",
    "5 1 65 61 61 numbers\n",
    "'d' 'dg' 'u' 'i' characters\n",
    "\"my ball\" strings \n",
    "True false boolean"
   ]
  },
  {
   "cell_type": "code",
   "execution_count": 4,
   "id": "fde8ec31-6bb6-4403-af21-2d14a17578b3",
   "metadata": {
    "tags": []
   },
   "outputs": [
    {
     "name": "stdout",
     "output_type": "stream",
     "text": [
      "1\n"
     ]
    },
    {
     "data": {
      "text/plain": [
       "'1'"
      ]
     },
     "execution_count": 4,
     "metadata": {},
     "output_type": "execute_result"
    }
   ],
   "source": [
    "#casting in python\n",
    "x  = 1\n",
    "print(x)\n",
    "float(x)\n",
    "# you can cast intergers to string also  similar to the coersion in R programming\n",
    "str(x)"
   ]
  }
 ],
 "metadata": {
  "kernelspec": {
   "display_name": "Python 3 (ipykernel)",
   "language": "python",
   "name": "python3"
  },
  "language_info": {
   "codemirror_mode": {
    "name": "ipython",
    "version": 3
   },
   "file_extension": ".py",
   "mimetype": "text/x-python",
   "name": "python",
   "nbconvert_exporter": "python",
   "pygments_lexer": "ipython3",
   "version": "3.11.6"
  }
 },
 "nbformat": 4,
 "nbformat_minor": 5
}
