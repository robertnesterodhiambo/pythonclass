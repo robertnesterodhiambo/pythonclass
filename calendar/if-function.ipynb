{
 "cells": [
  {
   "cell_type": "code",
   "execution_count": null,
   "metadata": {},
   "outputs": [],
   "source": [
    "# THE SQUARE\n",
    "import turtle\n",
    "bobby_turtle = turtle.Turtle()\n",
    "def Square():\n",
    "    bobby_turtle.forward(100)\n",
    "    bobby_turtle.right(90)\n",
    "    bobby_turtle.forward(100)\n",
    "    bobby_turtle.right(90)\n",
    "    bobby_turtle.forward(100)\n",
    "    bobby_turtle.right(90)\n",
    "    bobby_turtle.forward(100)\n",
    "Square()\n",
    "turtle.bye()"
   ]
  }
 ],
 "metadata": {
  "language_info": {
   "name": "python"
  }
 },
 "nbformat": 4,
 "nbformat_minor": 2
}
