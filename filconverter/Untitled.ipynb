{
 "cells": [
  {
   "cell_type": "code",
   "execution_count": 1,
   "id": "2a40c7c2-c68a-4188-bad4-7963898fba58",
   "metadata": {},
   "outputs": [
    {
     "name": "stdout",
     "output_type": "stream",
     "text": [
      "Collecting python-magic\n",
      "  Downloading python_magic-0.4.27-py2.py3-none-any.whl (13 kB)\n",
      "Installing collected packages: python-magic\n",
      "Successfully installed python-magic-0.4.27\n",
      "Note: you may need to restart the kernel to use updated packages.\n"
     ]
    }
   ],
   "source": [
    "pip install python-magic"
   ]
  },
  {
   "cell_type": "code",
   "execution_count": 3,
   "id": "c9666be6-03af-415d-9352-aef944b5c86e",
   "metadata": {},
   "outputs": [
    {
     "name": "stdout",
     "output_type": "stream",
     "text": [
      "Collecting pdf2docx\n",
      "  Downloading pdf2docx-0.5.8-py3-none-any.whl (132 kB)\n",
      "\u001b[K     |████████████████████████████████| 132 kB 325 kB/s eta 0:00:01\n",
      "\u001b[?25hCollecting fire>=0.3.0\n",
      "  Downloading fire-0.6.0.tar.gz (88 kB)\n",
      "\u001b[K     |████████████████████████████████| 88 kB 1.8 MB/s eta 0:00:01\n",
      "\u001b[?25hRequirement already satisfied: numpy>=1.17.2 in /home/dragon/.local/lib/python3.8/site-packages (from pdf2docx) (1.24.3)\n",
      "Collecting python-docx>=0.8.10\n",
      "  Downloading python_docx-1.1.1-py3-none-any.whl (242 kB)\n",
      "\u001b[K     |████████████████████████████████| 242 kB 2.1 MB/s eta 0:00:01\n",
      "\u001b[?25hCollecting PyMuPDF>=1.19.0\n",
      "  Downloading PyMuPDF-1.24.2-cp38-none-manylinux2014_x86_64.whl (3.4 MB)\n",
      "\u001b[K     |████████████████████████████████| 3.4 MB 3.6 MB/s eta 0:00:01     |██████████                      | 1.1 MB 3.6 MB/s eta 0:00:01\n",
      "\u001b[?25hRequirement already satisfied: fonttools>=4.24.0 in /home/dragon/.local/lib/python3.8/site-packages (from pdf2docx) (4.51.0)\n",
      "Collecting opencv-python-headless>=4.5\n",
      "  Downloading opencv_python_headless-4.9.0.80-cp37-abi3-manylinux_2_17_x86_64.manylinux2014_x86_64.whl (49.6 MB)\n",
      "\u001b[K     |████████████████████████████████| 49.6 MB 110 kB/s eta 0:00:01��█████████████████████████▊  | 46.0 MB 3.4 MB/s eta 0:00:02     |██████████████████████████████  | 46.5 MB 3.4 MB/s eta 0:00:01\n",
      "\u001b[?25hRequirement already satisfied: six in /usr/lib/python3/dist-packages (from fire>=0.3.0->pdf2docx) (1.14.0)\n",
      "Requirement already satisfied: termcolor in /home/dragon/.local/lib/python3.8/site-packages (from fire>=0.3.0->pdf2docx) (2.4.0)\n",
      "Requirement already satisfied: lxml<=4.9.2,>=3.1.0 in /usr/lib/python3/dist-packages (from python-docx>=0.8.10->pdf2docx) (4.5.0)\n",
      "Requirement already satisfied: typing-extensions>=4.9.0 in /home/dragon/.local/lib/python3.8/site-packages (from python-docx>=0.8.10->pdf2docx) (4.11.0)\n",
      "Collecting PyMuPDFb==1.24.1\n",
      "  Downloading PyMuPDFb-1.24.1-py3-none-manylinux2014_x86_64.manylinux_2_17_x86_64.whl (30.8 MB)\n",
      "\u001b[K     |████████████████████████████████| 30.8 MB 4.0 MB/s eta 0:00:01     |█████████████                   | 12.5 MB 2.4 MB/s eta 0:00:08\n",
      "\u001b[?25hBuilding wheels for collected packages: fire\n",
      "  Building wheel for fire (setup.py) ... \u001b[?25ldone\n",
      "\u001b[?25h  Created wheel for fire: filename=fire-0.6.0-py2.py3-none-any.whl size=117030 sha256=6fcd751a2a67c72d99a15838d023e77dbddf1198272635300d9abca41bc0ce4b\n",
      "  Stored in directory: /home/dragon/.cache/pip/wheels/f6/76/a0/afe23f6f3bc186630845efab23bc7a6e348204102070fdf465\n",
      "Successfully built fire\n",
      "Installing collected packages: fire, python-docx, PyMuPDFb, PyMuPDF, opencv-python-headless, pdf2docx\n",
      "Successfully installed PyMuPDF-1.24.2 PyMuPDFb-1.24.1 fire-0.6.0 opencv-python-headless-4.9.0.80 pdf2docx-0.5.8 python-docx-1.1.1\n",
      "Note: you may need to restart the kernel to use updated packages.\n"
     ]
    }
   ],
   "source": [
    "pip install --user docx2pdf"
   ]
  },
  {
   "cell_type": "code",
   "execution_count": 5,
   "id": "4cc272b1-a677-49f7-ae9d-d7f662a420e4",
   "metadata": {},
   "outputs": [
    {
     "name": "stdout",
     "output_type": "stream",
     "text": [
      "Collecting PyPDF2\n",
      "  Downloading pypdf2-3.0.1-py3-none-any.whl (232 kB)\n",
      "\u001b[K     |████████████████████████████████| 232 kB 314 kB/s eta 0:00:01\n",
      "\u001b[?25hRequirement already satisfied: typing_extensions>=3.10.0.0; python_version < \"3.10\" in /home/dragon/.local/lib/python3.8/site-packages (from PyPDF2) (4.11.0)\n",
      "Installing collected packages: PyPDF2\n",
      "Successfully installed PyPDF2-3.0.1\n",
      "Note: you may need to restart the kernel to use updated packages.\n"
     ]
    }
   ],
   "source": [
    "pip install --user PyPDF2"
   ]
  }
 ],
 "metadata": {
  "kernelspec": {
   "display_name": "Python 3 (ipykernel)",
   "language": "python",
   "name": "python3"
  },
  "language_info": {
   "codemirror_mode": {
    "name": "ipython",
    "version": 3
   },
   "file_extension": ".py",
   "mimetype": "text/x-python",
   "name": "python",
   "nbconvert_exporter": "python",
   "pygments_lexer": "ipython3",
   "version": "3.8.10"
  }
 },
 "nbformat": 4,
 "nbformat_minor": 5
}
