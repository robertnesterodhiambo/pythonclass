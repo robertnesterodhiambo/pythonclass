{
 "cells": [
  {
   "cell_type": "code",
   "execution_count": 7,
   "id": "2a40c7c2-c68a-4188-bad4-7963898fba58",
   "metadata": {},
   "outputs": [
    {
     "name": "stdout",
     "output_type": "stream",
     "text": [
      "Defaulting to user installation because normal site-packages is not writeable\n",
      "Requirement already satisfied: python-magic in /usr/lib/python3/dist-packages (0.4.27)\n",
      "Note: you may need to restart the kernel to use updated packages.\n"
     ]
    }
   ],
   "source": [
    "pip install python-magic"
   ]
  },
  {
   "cell_type": "code",
   "execution_count": 9,
   "id": "c9666be6-03af-415d-9352-aef944b5c86e",
   "metadata": {},
   "outputs": [
    {
     "name": "stdout",
     "output_type": "stream",
     "text": [
      "Requirement already satisfied: docx2pdf in /home/dragon/.local/lib/python3.11/site-packages (0.1.8)\n",
      "Requirement already satisfied: tqdm>=4.41.0 in /usr/lib/python3/dist-packages (from docx2pdf) (4.64.1)\n",
      "Note: you may need to restart the kernel to use updated packages.\n"
     ]
    }
   ],
   "source": [
    "pip install --user docx2pdf"
   ]
  },
  {
   "cell_type": "code",
   "execution_count": null,
   "id": "4cc272b1-a677-49f7-ae9d-d7f662a420e4",
   "metadata": {},
   "outputs": [],
   "source": []
  }
 ],
 "metadata": {
  "kernelspec": {
   "display_name": "Python 3 (ipykernel)",
   "language": "python",
   "name": "python3"
  },
  "language_info": {
   "codemirror_mode": {
    "name": "ipython",
    "version": 3
   },
   "file_extension": ".py",
   "mimetype": "text/x-python",
   "name": "python",
   "nbconvert_exporter": "python",
   "pygments_lexer": "ipython3",
   "version": "3.11.8"
  }
 },
 "nbformat": 4,
 "nbformat_minor": 5
}
