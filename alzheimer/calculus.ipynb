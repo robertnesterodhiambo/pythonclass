{
 "cells": [
  {
   "cell_type": "markdown",
   "metadata": {},
   "source": [
    "#   Task 1 – Gradient Descent using NumPy (20%)\n",
    "\n",
    "##  Part 1 (6 marks):"
   ]
  },
  {
   "cell_type": "markdown",
   "metadata": {},
   "source": [
    "1. \\( f(r) = \\frac{{(r - 7)^3}}{3} \\)\n",
    "\n",
    "   To differentiate this function \\( f(r) \\) with respect to \\( r \\), we'll use the power rule and chain rule. The power rule states that if we have a term of the form \\( (u)^n \\), its derivative is \\( n \\cdot (u)^{n-1} \\). The chain rule states that if we have a composite function \\( f(g(x)) \\), its derivative is \\( f'(g(x)) \\cdot g'(x) \\).\n",
    "\n",
    "   Let \\( u = r - 7 \\). Then \\( f(r) = \\frac{{u^3}}{3} \\).\n",
    "\n",
    "   \\[ \\frac{d}{dr}f(r) = \\frac{d}{dr}\\left(\\frac{u^3}{3}\\right) = \\frac{1}{3} \\cdot \\frac{d}{dr}(u^3) \\]\n",
    "\n",
    "   Applying the power rule to \\( u^3 \\):\n",
    "\n",
    "   \\[ \\frac{d}{dr}f(r) = \\frac{1}{3} \\cdot 3u^2 \\cdot \\frac{du}{dr} \\]\n",
    "\n",
    "   Now, \\( \\frac{du}{dr} = \\frac{d}{dr}(r - 7) = 1 \\).\n",
    "\n",
    "   Therefore,\n",
    "\n",
    "   \\[ \\frac{d}{dr}f(r) = u^2 = (r - 7)^2 \\]\n",
    "\n",
    "   So, the derivative of \\( f(r) \\) with respect to \\( r \\) is \\( (r - 7)^2 \\).\n",
    "\n",
    "2. \\( f(s) = (4s - 20)^2 + (2s - 10)^2 \\)\n",
    "\n",
    "   To differentiate this function \\( f(s) \\) with respect to \\( s \\), we'll apply the power rule.\n",
    "\n",
    "   \\[ \\frac{d}{ds}f(s) = 2(4s - 20) \\cdot \\frac{d}{ds}(4s - 20) + 2(2s - 10) \\cdot \\frac{d}{ds}(2s - 10) \\]\n",
    "\n",
    "   Applying the power rule to \\( (4s - 20) \\) and \\( (2s - 10) \\):\n",
    "\n",
    "   \\[ \\frac{d}{ds}f(s) = 2(4s - 20) \\cdot 4 + 2(2s - 10) \\cdot 2 \\]\n",
    "\n",
    "   Simplifying,\n",
    "\n",
    "   \\[ \\frac{d}{ds}f(s) = 8(4s - 20) + 4(2s - 10) \\]\n",
    "\n",
    "   \\[ \\frac{d}{ds}f(s) = 32s - 160 + 8s - 40 \\]\n",
    "\n",
    "   \\[ \\frac{d}{ds}f(s) = 40s - 200 \\]\n",
    "\n",
    "   So, the derivative of \\( f(s) \\) with respect to \\( s \\) is \\( 40s - 200 \\).\n",
    "\n",
    "3. \\( f(t) = \\left(\\frac{{4t^2}}{t} - 12\\right)^2 \\)\n",
    "\n",
    "   To differentiate this function \\( f(t) \\) with respect to \\( t \\), we'll again apply the power rule.\n",
    "\n",
    "   Let \\( u = \\frac{{4t^2}}{t} - 12 \\). Then \\( f(t) = u^2 \\).\n",
    "\n",
    "   \\[ \\frac{d}{dt}f(t) = 2u \\cdot \\frac{du}{dt} \\]\n",
    "\n",
    "   Now, \\( \\frac{du}{dt} = \\frac{d}{dt}\\left(\\frac{{4t^2}}{t} - 12\\right) = \\frac{d}{dt}(4t - 12) = 4 \\).\n",
    "\n",
    "   Therefore,\n",
    "\n",
    "   \\[ \\frac{d}{dt}f(t) = 2u \\cdot 4 \\]\n",
    "\n",
    "   \\[ \\frac{d}{dt}f(t) = 8u \\]\n",
    "\n",
    "   Now, \\( u = \\frac{{4t^2}}{t} - 12 = 4t - 12 \\).\n",
    "\n",
    "   So,\n",
    "\n",
    "   \\[ \\frac{d}{dt}f(t) = 8(4t - 12) \\]\n",
    "\n",
    "   \\[ \\frac{d}{dt}f(t) = 32t - 96 \\]\n",
    "\n",
    "   So, the derivative of \\( f(t) \\) with respect to \\( t \\) is \\( 32t - 96 \\).\n",
    "\n"
   ]
  },
  {
   "cell_type": "markdown",
   "metadata": {},
   "source": [
    "##  Part 2 (12 marks):"
   ]
  },
  {
   "cell_type": "code",
   "execution_count": 1,
   "metadata": {},
   "outputs": [
    {
     "name": "stdout",
     "output_type": "stream",
     "text": [
      "Final error: nan\n",
      "Final values after gradient descent:\n",
      "r = 7.032150655915842\n",
      "s = 4.999999999999998\n",
      "t = nan\n"
     ]
    },
    {
     "name": "stderr",
     "output_type": "stream",
     "text": [
      "/tmp/ipykernel_5553/3175500887.py:11: RuntimeWarning: overflow encountered in scalar multiply\n",
      "  grad_t = (-32*t**4 + 64*t**3 + 96*t**2 - 192*t) / (t**3)\n",
      "/tmp/ipykernel_5553/3175500887.py:11: RuntimeWarning: invalid value encountered in scalar add\n",
      "  grad_t = (-32*t**4 + 64*t**3 + 96*t**2 - 192*t) / (t**3)\n"
     ]
    }
   ],
   "source": [
    "import numpy as np\n",
    "\n",
    "# Define the error function\n",
    "def error_function(r, s, t):\n",
    "    return (r - 7)**3 + (4*s - 20)**2 + (2*s - 10)**2 + ((4*t**2)/t - 12)**2\n",
    "\n",
    "# Define the gradient of the error function\n",
    "def gradient_error(r, s, t):\n",
    "    grad_r = 3 * (r - 7)**2\n",
    "    grad_s = 24 * s - 120\n",
    "    grad_t = (-32*t**4 + 64*t**3 + 96*t**2 - 192*t) / (t**3)\n",
    "    return np.array([grad_r, grad_s, grad_t])\n",
    "\n",
    "# Initialize the algorithm with initial values\n",
    "r = 8\n",
    "s = 1\n",
    "t = 4\n",
    "learning_rate = 0.01\n",
    "num_iterations = 1000\n",
    "\n",
    "# Apply gradient descent algorithm\n",
    "for i in range(num_iterations):\n",
    "    gradient = gradient_error(r, s, t)\n",
    "    r -= learning_rate * gradient[0]\n",
    "    s -= learning_rate * gradient[1]\n",
    "    t -= learning_rate * gradient[2]\n",
    "\n",
    "# Compute the final error\n",
    "final_error = error_function(r, s, t)\n",
    "print(\"Final error:\", final_error)\n",
    "\n",
    "# Print the final values of r, s, and t\n",
    "print(\"Final values after gradient descent:\")\n",
    "print(\"r =\", r)\n",
    "print(\"s =\", s)\n",
    "print(\"t =\", t)\n"
   ]
  },
  {
   "cell_type": "markdown",
   "metadata": {},
   "source": [
    "##  Part 2b (2 marks):"
   ]
  },
  {
   "cell_type": "markdown",
   "metadata": {},
   "source": [
    "To find the true values of \\( r \\), \\( s \\), and \\( t \\) such that \\( E = y^2 = 0 \\), we need to solve the equation \\( E(r, s, t) = 0 \\) analytically. This means finding the exact solutions where the error function is equal to zero.\n",
    "\n",
    "Given the error function \\( E = y^2 \\), where \\( y = f(r, s, t) = (r - 7)^3 + (4s - 20)^2 + (2s - 10)^2 + \\left(\\frac{{4t^2}}{t} - 12\\right)^2 \\), we need to solve \\( y = 0 \\) to find the true values of \\( r \\), \\( s \\), and \\( t \\) where \\( E = 0 \\).\n",
    "\n",
    "Let's set up the equation \\( y = 0 \\) and solve it for \\( r \\), \\( s \\), and \\( t \\) separately:\n",
    "\n",
    "1. For \\( r \\):\n",
    "\\[ (r - 7)^3 = 0 \\]\n",
    "\\[ r - 7 = 0 \\]\n",
    "\\[ r = 7 \\]\n",
    "\n",
    "2. For \\( s \\):\n",
    "\\[ (4s - 20)^2 + (2s - 10)^2 = 0 \\]\n",
    "\n",
    "Both terms in the expression are squares, so they are always non-negative. The only way for the sum of two squares to be zero is if both squares are zero individually:\n",
    "\n",
    "\\[ (4s - 20)^2 = 0 \\]\n",
    "\\[ 4s - 20 = 0 \\]\n",
    "\\[ s - 5 = 0 \\]\n",
    "\\[ s = 5 \\]\n",
    "\n",
    "\\[ (2s - 10)^2 = 0 \\]\n",
    "\\[ 2s - 10 = 0 \\]\n",
    "\\[ s - 5 = 0 \\]\n",
    "\\[ s = 5 \\]\n",
    "\n",
    "So, \\( s = 5 \\).\n",
    "\n",
    "3. For \\( t \\):\n",
    "\\[ \\left(\\frac{{4t^2}}{t} - 12\\right)^2 = 0 \\]\n",
    "\\[ (4t - 12)^2 = 0 \\]\n",
    "\\[ 4t - 12 = 0 \\]\n",
    "\\[ t - 3 = 0 \\]\n",
    "\\[ t = 3 \\]\n",
    "\n",
    "Therefore, the true values of \\( r \\), \\( s \\), and \\( t \\) such that \\( E = 0 \\) are:\n",
    "\\[ r = 7 \\]\n",
    "\\[ s = 5 \\]\n",
    "\\[ t = 3 \\]\n",
    "\n",
    "These are the exact solutions where the error function is equal to zero, verified mathematically."
   ]
  },
  {
   "cell_type": "markdown",
   "metadata": {},
   "source": [
    "#   Task 2 – Regression using PyTorch (35%)\n",
    "\n",
    "##  Part 1 (13 marks):"
   ]
  },
  {
   "cell_type": "markdown",
   "metadata": {},
   "source": [
    "1. \\( y = 3(t^2 + 2)^2 \\), where \\( t = 2x + c \\)\n",
    "\n"
   ]
  },
  {
   "cell_type": "code",
   "execution_count": 2,
   "metadata": {},
   "outputs": [
    {
     "name": "stdout",
     "output_type": "stream",
     "text": [
      "Gradient dy/dx for equation 1: tensor(792.)\n"
     ]
    }
   ],
   "source": [
    "import torch\n",
    "\n",
    "# Initialize variables\n",
    "x = torch.tensor(1.0, requires_grad=True)\n",
    "c = torch.tensor(1.0)\n",
    "\n",
    "# Define equation 1\n",
    "t = 2*x + c\n",
    "y = 3 * (t**2 + 2)**2\n",
    "\n",
    "# Calculate gradient\n",
    "y.backward()\n",
    "\n",
    "# Print the gradient dy/dx\n",
    "print(\"Gradient dy/dx for equation 1:\", x.grad)"
   ]
  },
  {
   "cell_type": "markdown",
   "metadata": {},
   "source": [
    "\n",
    "\n",
    "2. \\( y = 3(s^3 + s) + 2c^4 \\), where \\( s = 2x \\)\n",
    "\n"
   ]
  },
  {
   "cell_type": "code",
   "execution_count": 3,
   "metadata": {},
   "outputs": [
    {
     "name": "stdout",
     "output_type": "stream",
     "text": [
      "Gradient dy/dx for equation 2: tensor(78.)\n"
     ]
    }
   ],
   "source": [
    "\n",
    "# Reset gradient\n",
    "x.grad = None\n",
    "\n",
    "# Define equation 2\n",
    "s = 2*x\n",
    "y = 3 * (s**3 + s) + 2*c**4\n",
    "\n",
    "# Calculate gradient\n",
    "y.backward()\n",
    "\n",
    "# Print the gradient dy/dx\n",
    "print(\"Gradient dy/dx for equation 2:\", x.grad)"
   ]
  },
  {
   "cell_type": "markdown",
   "metadata": {},
   "source": [
    "3. \\( y = 2t + c \\), where \\( t = (p^2 + 2p + 3)^2 \\), \\( p = 2r^3 + 3r \\), \\( r = 2q + 3 \\), \\( q = 2x + c \\)"
   ]
  },
  {
   "cell_type": "code",
   "execution_count": 4,
   "metadata": {},
   "outputs": [
    {
     "name": "stdout",
     "output_type": "stream",
     "text": [
      "Gradient dy/dx for equation 3: tensor(5.1347e+13)\n"
     ]
    }
   ],
   "source": [
    "# Reset gradient\n",
    "x.grad = None\n",
    "\n",
    "# Define equation 3\n",
    "q = 2*x + c\n",
    "r = 2*q + 3\n",
    "p = 2*r**3 + 3*r\n",
    "t = (p**2 + 2*p + 3)**2\n",
    "y = 2*t + c\n",
    "\n",
    "# Calculate gradient\n",
    "y.backward()\n",
    "\n",
    "# Print the gradient dy/dx\n",
    "print(\"Gradient dy/dx for equation 3:\", x.grad)"
   ]
  },
  {
   "cell_type": "markdown",
   "metadata": {},
   "source": [
    "#   Task 3 – Neural Networks (35%)\n",
    "\n",
    "##  Part 1 (25 marks):"
   ]
  },
  {
   "cell_type": "code",
   "execution_count": 5,
   "metadata": {},
   "outputs": [
    {
     "name": "stderr",
     "output_type": "stream",
     "text": [
      "2024-03-06 03:11:46.880988: E external/local_xla/xla/stream_executor/cuda/cuda_dnn.cc:9261] Unable to register cuDNN factory: Attempting to register factory for plugin cuDNN when one has already been registered\n",
      "2024-03-06 03:11:46.881048: E external/local_xla/xla/stream_executor/cuda/cuda_fft.cc:607] Unable to register cuFFT factory: Attempting to register factory for plugin cuFFT when one has already been registered\n",
      "2024-03-06 03:11:46.906659: E external/local_xla/xla/stream_executor/cuda/cuda_blas.cc:1515] Unable to register cuBLAS factory: Attempting to register factory for plugin cuBLAS when one has already been registered\n",
      "2024-03-06 03:11:46.988298: I tensorflow/core/platform/cpu_feature_guard.cc:182] This TensorFlow binary is optimized to use available CPU instructions in performance-critical operations.\n",
      "To enable the following instructions: AVX2 FMA, in other operations, rebuild TensorFlow with the appropriate compiler flags.\n",
      "2024-03-06 03:11:50.637608: W tensorflow/compiler/tf2tensorrt/utils/py_utils.cc:38] TF-TRT Warning: Could not find TensorRT\n"
     ]
    },
    {
     "name": "stdout",
     "output_type": "stream",
     "text": [
      "Found 5121 images belonging to 4 classes.\n",
      "Found 1279 images belonging to 4 classes.\n",
      "Epoch 1/10\n",
      "161/161 [==============================] - 51s 307ms/step - loss: 5.1697 - accuracy: 0.5028 - val_loss: 4.3478 - val_accuracy: 0.5129\n",
      "Epoch 2/10\n",
      "161/161 [==============================] - 44s 273ms/step - loss: 2.6793 - accuracy: 0.5860 - val_loss: 3.9582 - val_accuracy: 0.5434\n",
      "Epoch 3/10\n",
      "161/161 [==============================] - 32s 201ms/step - loss: 1.3601 - accuracy: 0.6840 - val_loss: 9.8273 - val_accuracy: 0.5004\n",
      "Epoch 4/10\n",
      "161/161 [==============================] - 40s 251ms/step - loss: 1.3903 - accuracy: 0.6981 - val_loss: 2.7184 - val_accuracy: 0.4848\n",
      "Epoch 5/10\n",
      "161/161 [==============================] - 44s 276ms/step - loss: 1.3064 - accuracy: 0.7516 - val_loss: 3.2016 - val_accuracy: 0.5278\n",
      "Epoch 6/10\n",
      "161/161 [==============================] - 40s 251ms/step - loss: 0.8551 - accuracy: 0.7196 - val_loss: 3.3915 - val_accuracy: 0.5285\n",
      "Epoch 7/10\n",
      "161/161 [==============================] - 40s 251ms/step - loss: 0.7470 - accuracy: 0.7805 - val_loss: 1.4875 - val_accuracy: 0.5496\n",
      "Epoch 8/10\n",
      "161/161 [==============================] - 41s 255ms/step - loss: 0.4397 - accuracy: 0.8311 - val_loss: 2.9412 - val_accuracy: 0.5348\n",
      "Epoch 9/10\n",
      "161/161 [==============================] - 40s 249ms/step - loss: 0.2753 - accuracy: 0.8901 - val_loss: 1.6822 - val_accuracy: 0.5794\n",
      "Epoch 10/10\n",
      "161/161 [==============================] - 43s 264ms/step - loss: 0.2908 - accuracy: 0.8891 - val_loss: 3.0665 - val_accuracy: 0.5301\n",
      "Epoch 1/10\n"
     ]
    },
    {
     "name": "stderr",
     "output_type": "stream",
     "text": [
      "2024-03-06 03:18:55.304708: W external/local_tsl/tsl/framework/cpu_allocator_impl.cc:83] Allocation of 146817024 exceeds 10% of free system memory.\n",
      "2024-03-06 03:18:56.847001: W external/local_tsl/tsl/framework/cpu_allocator_impl.cc:83] Allocation of 146817024 exceeds 10% of free system memory.\n"
     ]
    },
    {
     "name": "stdout",
     "output_type": "stream",
     "text": [
      "  1/161 [..............................] - ETA: 8:50 - loss: 1.4071 - accuracy: 0.2500"
     ]
    },
    {
     "name": "stderr",
     "output_type": "stream",
     "text": [
      "2024-03-06 03:18:57.497373: W external/local_tsl/tsl/framework/cpu_allocator_impl.cc:83] Allocation of 146817024 exceeds 10% of free system memory.\n",
      "2024-03-06 03:18:59.016153: W external/local_tsl/tsl/framework/cpu_allocator_impl.cc:83] Allocation of 146817024 exceeds 10% of free system memory.\n"
     ]
    },
    {
     "name": "stdout",
     "output_type": "stream",
     "text": [
      "  2/161 [..............................] - ETA: 5:14 - loss: 2.6271 - accuracy: 0.3906"
     ]
    },
    {
     "name": "stderr",
     "output_type": "stream",
     "text": [
      "2024-03-06 03:18:59.472597: W external/local_tsl/tsl/framework/cpu_allocator_impl.cc:83] Allocation of 146817024 exceeds 10% of free system memory.\n"
     ]
    },
    {
     "name": "stdout",
     "output_type": "stream",
     "text": [
      "161/161 [==============================] - 302s 2s/step - loss: 0.9898 - accuracy: 0.5417 - val_loss: 0.9625 - val_accuracy: 0.5137\n",
      "Epoch 2/10\n",
      "161/161 [==============================] - 299s 2s/step - loss: 0.6184 - accuracy: 0.7286 - val_loss: 1.1706 - val_accuracy: 0.5528\n",
      "Epoch 3/10\n",
      "161/161 [==============================] - 301s 2s/step - loss: 0.2497 - accuracy: 0.9031 - val_loss: 1.1702 - val_accuracy: 0.6083\n",
      "Epoch 4/10\n",
      "161/161 [==============================] - 301s 2s/step - loss: 0.0979 - accuracy: 0.9645 - val_loss: 1.8596 - val_accuracy: 0.6091\n",
      "Epoch 5/10\n",
      "161/161 [==============================] - 302s 2s/step - loss: 0.0375 - accuracy: 0.9875 - val_loss: 2.3919 - val_accuracy: 0.6294\n",
      "Epoch 6/10\n",
      "161/161 [==============================] - 303s 2s/step - loss: 0.0173 - accuracy: 0.9951 - val_loss: 3.1836 - val_accuracy: 0.5981\n",
      "Epoch 7/10\n",
      "161/161 [==============================] - 303s 2s/step - loss: 0.0129 - accuracy: 0.9971 - val_loss: 2.5567 - val_accuracy: 0.6341\n",
      "Epoch 8/10\n",
      "161/161 [==============================] - 301s 2s/step - loss: 0.0171 - accuracy: 0.9941 - val_loss: 2.8291 - val_accuracy: 0.5903\n",
      "Epoch 9/10\n",
      "161/161 [==============================] - 301s 2s/step - loss: 0.0322 - accuracy: 0.9883 - val_loss: 2.1573 - val_accuracy: 0.6185\n",
      "Epoch 10/10\n",
      "161/161 [==============================] - 301s 2s/step - loss: 0.0374 - accuracy: 0.9867 - val_loss: 2.7451 - val_accuracy: 0.6075\n"
     ]
    }
   ],
   "source": [
    "import os\n",
    "import numpy as np\n",
    "import tensorflow as tf\n",
    "from tensorflow.keras import layers, models\n",
    "\n",
    "# Define constants\n",
    "IMAGE_SIZE = (176, 208)  # Assuming image dimensions\n",
    "BATCH_SIZE = 32\n",
    "NUM_CLASSES = 4\n",
    "EPOCHS = 10\n",
    "\n",
    "# Data preprocessing\n",
    "train_datagen = tf.keras.preprocessing.image.ImageDataGenerator(rescale=1./255)\n",
    "test_datagen = tf.keras.preprocessing.image.ImageDataGenerator(rescale=1./255)\n",
    "\n",
    "train_generator = train_datagen.flow_from_directory(\n",
    "    directory='train',\n",
    "    target_size=IMAGE_SIZE,\n",
    "    batch_size=BATCH_SIZE,\n",
    "    class_mode='categorical'\n",
    ")\n",
    "\n",
    "test_generator = test_datagen.flow_from_directory(\n",
    "    directory='test',\n",
    "    target_size=IMAGE_SIZE,\n",
    "    batch_size=BATCH_SIZE,\n",
    "    class_mode='categorical'\n",
    ")\n",
    "\n",
    "# Simple Neural Network\n",
    "model_simple = models.Sequential([\n",
    "    layers.Flatten(input_shape=(*IMAGE_SIZE, 3)),\n",
    "    layers.Dense(128, activation='relu'),\n",
    "    layers.Dense(NUM_CLASSES, activation='softmax')\n",
    "])\n",
    "\n",
    "model_simple.compile(optimizer='adam',\n",
    "                     loss='categorical_crossentropy',\n",
    "                     metrics=['accuracy'])\n",
    "\n",
    "history_simple = model_simple.fit(train_generator,\n",
    "                                  epochs=EPOCHS,\n",
    "                                  validation_data=test_generator)\n",
    "\n",
    "# Convolutional Neural Network\n",
    "model_cnn = models.Sequential([\n",
    "    layers.Conv2D(32, (3, 3), activation='relu', input_shape=(*IMAGE_SIZE, 3)),\n",
    "    layers.MaxPooling2D((2, 2)),\n",
    "    layers.Conv2D(64, (3, 3), activation='relu'),\n",
    "    layers.MaxPooling2D((2, 2)),\n",
    "    layers.Conv2D(128, (3, 3), activation='relu'),\n",
    "    layers.MaxPooling2D((2, 2)),\n",
    "    layers.Flatten(),\n",
    "    layers.Dense(128, activation='relu'),\n",
    "    layers.Dense(NUM_CLASSES, activation='softmax')\n",
    "])\n",
    "\n",
    "model_cnn.compile(optimizer='adam',\n",
    "                  loss='categorical_crossentropy',\n",
    "                  metrics=['accuracy'])\n",
    "\n",
    "history_cnn = model_cnn.fit(train_generator,\n",
    "                            epochs=EPOCHS,\n",
    "                            validation_data=test_generator)\n"
   ]
  },
  {
   "cell_type": "code",
   "execution_count": null,
   "metadata": {},
   "outputs": [],
   "source": []
  }
 ],
 "metadata": {
  "kernelspec": {
   "display_name": "Python 3 (ipykernel)",
   "language": "python",
   "name": "python3"
  },
  "language_info": {
   "codemirror_mode": {
    "name": "ipython",
    "version": 3
   },
   "file_extension": ".py",
   "mimetype": "text/x-python",
   "name": "python",
   "nbconvert_exporter": "python",
   "pygments_lexer": "ipython3",
   "version": "3.11.6"
  }
 },
 "nbformat": 4,
 "nbformat_minor": 4
}
