{
  "cells": [
    {
      "cell_type": "markdown",
      "id": "zhn9f_buHNRD",
      "metadata": {
        "id": "zhn9f_buHNRD"
      },
      "source": [
        "### **Statistical Intuitions and Applications**\n",
        "\n",
        "# **Assignment #1**"
      ]
    },
    {
      "cell_type": "markdown",
      "id": "zZw8gSUmGUo0",
      "metadata": {
        "id": "zZw8gSUmGUo0"
      },
      "source": [
        "\n",
        "**Background**\n",
        "\n",
        "*   Imagine that you have graduated CIS and now work as a consultant.\n",
        "*   You are hired by a health and fitness company.\n",
        "*   They have collected detailed data from 507 physically active participants. This data includes information about the participant's body measurements as well as personal attributes such as age, weight, height, and gender.\n",
        "*   The company wants you to analyze this data in ways that can help them design personalized fitness evaluations and training regimens for their users.\n",
        "\n",
        "Note: The entire dataset (and descriptions of each of the variables) can be found [here] (https://vincentarelbundock.github.io/Rdatasets/doc/openintro/bdims.html).\n",
        "\n",
        "In Assignment 1 you will take a random sample of 100 participants from the 507 individuals who were studied, and analyze the data for these 100 individuals.\n",
        "\n",
        "**Important Information**:   \n",
        "\n",
        "1. Read all the instructions carefully before you begin!\n",
        "2. You will need to save the (.ipynb) file as a ***searchable*** PDF and NOT as a picture. Likewise, your answers and your codes must be submitted as searchable PDF. Pictures or snapshots of your work will NOT be accepted.\n",
        "4. The generated csv file and .ipynb file must be submitted in a zip-folder as a secondary source.\n",
        "5. You may use Jupyter notebook or Colab as per your convenience.\n",
        "\n",
        "Non-compliance with the above instructions will result in a 0 grade on the relevant portions of the assignment. Your instructor will grade your assignment based on what you submitted. Failure to submit the assignment or submitting an assignment intended for another class will result in a 0 grade, and resubmission will not be allowed. Make sure that you submit your original work. Suspected cases of plagiarism will be treated as potential academic misconduct and will be reported to the College Academic Integrity Committee for a formal investigation. As part of this procedure, your instructor may require you to meet with them for an oral exam on the assignment.\n",
        "\n",
        "\n",
        "**IMPORTANT**: Run the code below. It will load in the packages that you need to complete the tasks below."
      ]
    },
    {
      "cell_type": "code",
      "execution_count": null,
      "id": "g375x2rNHgxc",
      "metadata": {
        "id": "g375x2rNHgxc"
      },
      "outputs": [],
      "source": [
        "# Following libraries will be loaded so that these can be applied in codes.\n",
        "\n",
        "import numpy as np\n",
        "import pandas as pd\n",
        "import matplotlib.pyplot as plt\n",
        "import random\n",
        "import scipy.stats as stats"
      ]
    },
    {
      "cell_type": "markdown",
      "id": "cb25b7bf",
      "metadata": {
        "id": "cb25b7bf"
      },
      "source": [
        "**Task 1.**\n",
        "\n",
        "*   As mentioned above, you will select a random sample of 100 individuals from the comapny's data set.\n",
        "*   You will then conduct analyzes on this random sample.\n",
        "*   Look at the code below. To select a random sample from the data, you should replace **Name** with your own name in the code.\n",
        "*   After you have done so run the code. The code will generate a csv file with a random sample of 100 participants. It will also be labeled with your name.\n",
        "*   REMEMBER: you need to add this csv file to a zip file along with your .ipynb. file when submitting your assignment.\n",
        "\n",
        "**IMPORTANT: ONLY RUN THIS CODE BLOCK ONCE.**\n",
        "\n",
        "If you run it a second time, it will generate a new random sample of 100 individuals. If this happens then your (new) data (in the csv file) will not match your original analyses."
      ]
    },
    {
      "cell_type": "code",
      "execution_count": null,
      "id": "DTxYwPfTIGDE",
      "metadata": {
        "id": "DTxYwPfTIGDE"
      },
      "outputs": [],
      "source": [
        "# The code below will generate a random sample of 100 participants for you to analyze.\n",
        "\n",
        "# You need to replace \"Name\" in the code below with your own name. The code will then generate a csv file that is labeled with your name and which\n",
        "# contains a random sample of 100 individuals.\n",
        "# REMEMBER: you need to submit this csv file in the zip folder when submitting your assignment.\n",
        "\n",
        "try:\n",
        "    df = pd.read_csv('Name.csv')        # replace Name with your own name\n",
        "except FileNotFoundError:\n",
        "    original_data = pd.read_csv(\"https://raw.githubusercontent.com/ZUCourses/SIA-Public/main/Data%20Sets/body_measurement.csv\")\n",
        "    df1 = original_data.sample(100)\n",
        "    df1.to_csv('Name.csv')                   # replace Name with your own name\n",
        "    df = pd.read_csv('Name.csv')             # replace Name with your own name\n",
        "    df = pd.DataFrame(df)\n",
        "    df.to_csv('Name.csv')                    # replace Name with your own name\n",
        "\n",
        "df.head()"
      ]
    },
    {
      "cell_type": "markdown",
      "id": "2e3fc3ce",
      "metadata": {
        "id": "2e3fc3ce"
      },
      "source": [
        "**Task 2.**\n",
        "\n",
        "*   Now that you have your data set you are ready to start analyzing it!\n",
        "*   The first step is to explore your dataset.\n",
        "*   Look at the variables that make up the data set.\n",
        "*   Once you've done so, imagine you are writing a report for the fitness company that hired you.\n",
        "*   Start with a brief introduction to the research question you are exploring, then the dataset you are analysing (e.g., what is the sample you are analyzing? What are the variables?)\n",
        "*   Assume that your #Audience is the company's leadership. They will be with what you are reporting.\n",
        "\n",
        "Add this brief introduction below."
      ]
    },
    {
      "cell_type": "markdown",
      "id": "iGDmv4W9Bew6",
      "metadata": {
        "id": "iGDmv4W9Bew6"
      },
      "source": [
        "**Task 2 Answer:**\n",
        "\n",
        "\n"
      ]
    },
    {
      "cell_type": "markdown",
      "id": "R45-EcKaLYjW",
      "metadata": {
        "id": "R45-EcKaLYjW"
      },
      "source": [
        "DOUBLE CLICK TO **ADD YOUR TEXT FOR TASK 2 HERE**"
      ]
    },
    {
      "cell_type": "markdown",
      "id": "qNV1txo_Ui7p",
      "metadata": {
        "id": "qNV1txo_Ui7p"
      },
      "source": [
        "**Task 3.**\n",
        "\n",
        "*   Run the below code. It will randomly select 4 variables from your dataset.\n",
        "*   It will then print the names of the four variables that were randomly selected.\n",
        "\n"
      ]
    },
    {
      "cell_type": "code",
      "execution_count": null,
      "id": "ltbg1-KsIPzD",
      "metadata": {
        "id": "ltbg1-KsIPzD"
      },
      "outputs": [],
      "source": [
        "import random\n",
        "\n",
        "column_titles = [\"bia_di\", \"bii_di\", \"bit_di\",\"che_de\",\"che_di\",\"elb_di\",\"wri_di\",\"kne_di\",\"ank_di\",\"sho_gi\",\"che_gi\",\"wai_gi\",\"nav_gi\",\"hip_gi\",\"thi_gi\",\"bic_gi\",\"for_gi\",\"kne_gi\",\"cal_gi\",\"ank_gi\",\"wri_gi\",\"age\",\"hgt\"]\n",
        "\n",
        "# Randomly select 4 titles from the first 22 columns\n",
        "selected_columns = random.sample(column_titles, 4)\n",
        "\n",
        "# Print the four variables that were randomly selected\n",
        "print(\"Selected Variables:\", selected_columns)"
      ]
    },
    {
      "cell_type": "markdown",
      "id": "93bfe955",
      "metadata": {
        "id": "93bfe955"
      },
      "source": [
        "**REMEMBER: Check the full name of each of your variables, you can find it [here](https://vincentarelbundock.github.io/Rdatasets/doc/openintro/bdims.html)**.  \n",
        "\n",
        "Your task is to do the following:\n",
        "*   **You should create a histogram and generate descriptive statistics for each of the four variables that were randomly selected above**.You can use the code below to help you do so.\n",
        "\n",
        "*   For each variable you need to describe the following: **shape**, **center**, **spread**, and the **presence of any outliers**."
      ]
    },
    {
      "cell_type": "code",
      "execution_count": null,
      "id": "e4O7VmOIQ5zj",
      "metadata": {
        "id": "e4O7VmOIQ5zj"
      },
      "outputs": [],
      "source": [
        "#Sample code:\n",
        "import pandas\n",
        "import matplotlib.pyplot as plt\n",
        "\n",
        "# Remember: you will need to replace \"Column\" with the name of the variable that you are visualizing and describing\n",
        "\n",
        "#plot the histogram\n",
        "plt.hist(df['Column'],bins = XX) #replace XX with the number of bins\n",
        "plt.title('Column Distribution')\n",
        "#produce descriptive statistics\n",
        "print (\"Descriptive Statistics for Column\")\n",
        "df[\"Column\"].describe()"
      ]
    },
    {
      "cell_type": "markdown",
      "id": "fSaM10ohc5tA",
      "metadata": {
        "id": "fSaM10ohc5tA"
      },
      "source": [
        "**Task 3 Answer:**\n",
        "\n",
        "\n"
      ]
    },
    {
      "cell_type": "code",
      "execution_count": null,
      "id": "k8jl2XgnnBPF",
      "metadata": {
        "id": "k8jl2XgnnBPF"
      },
      "outputs": [],
      "source": [
        "#Write your code for Task 3 here:"
      ]
    },
    {
      "cell_type": "markdown",
      "id": "td5n99obOJNV",
      "metadata": {
        "id": "td5n99obOJNV"
      },
      "source": [
        "DOUBLE CLICK TO **ADD YOUR TEXT FOR TASK 3 HERE**"
      ]
    },
    {
      "cell_type": "markdown",
      "id": "ace10650",
      "metadata": {
        "id": "ace10650"
      },
      "source": [
        "**Task 4.**\n",
        "\n",
        "Now that you have described and plotted data, let's explore if the data differ for male and female participants.\n",
        "\n",
        "*   Generate grouped box plots for each of the 4 variables in Task 3.\n",
        "*   Your boxplot should compare the distributions for males and females in your dataset.\n",
        "*   Afterwards, you should describe what you observe in each case.\n",
        "*   Make sure you mention the five-number summaries for both genders."
      ]
    },
    {
      "cell_type": "code",
      "execution_count": null,
      "id": "69b35616",
      "metadata": {
        "id": "69b35616"
      },
      "outputs": [],
      "source": [
        "#Sample Code\n",
        "import pandas\n",
        "import matplotlib.pyplot as plt\n",
        "from numpy import percentile\n",
        "\n",
        "male=df[df[\"sex\"]==1]\n",
        "female=df[df[\"sex\"]==0]\n",
        "\n",
        "#create boxplots side by side\n",
        "data1=male['Column']  #Replace Column with the variable name\n",
        "data2=female['Column']  #Replace Column with the variable name\n",
        "data = list([data1, data2])\n",
        "fig, ax = plt.subplots()\n",
        "ax.set_xticklabels(['male', 'female'])\n",
        "plt.grid(axis=\"y\")\n",
        "plt.boxplot(data)\n",
        "\n",
        "#descriptive statistics\n",
        "print (\"Descriptive Statistics for Male Students' Column\")  #Replace Column with the variable name\n",
        "print(male['Column'].describe())\n",
        "print (\"Descriptive Statistics for Female Students' Column\")  #Replace Column with the variable name\n",
        "print(female['Column'].describe())  #Replace Column with the variable name\n",
        "\n"
      ]
    },
    {
      "cell_type": "code",
      "execution_count": null,
      "id": "fsyzrB-Zm8EE",
      "metadata": {
        "id": "fsyzrB-Zm8EE"
      },
      "outputs": [],
      "source": [
        "#Write your code for Task 4."
      ]
    },
    {
      "cell_type": "markdown",
      "id": "W2p9xacKmdqk",
      "metadata": {
        "id": "W2p9xacKmdqk"
      },
      "source": [
        "**Task 4 Answer:**\n",
        "\n",
        "\n"
      ]
    },
    {
      "cell_type": "markdown",
      "id": "Fwpk7Zk2oWgh",
      "metadata": {
        "id": "Fwpk7Zk2oWgh"
      },
      "source": [
        "DOUBLE CLICK TO **ADD YOUR TEXT FOR TASK 4 HERE**"
      ]
    },
    {
      "cell_type": "markdown",
      "id": "7113049f",
      "metadata": {
        "id": "7113049f"
      },
      "source": [
        "**Task 5**\n",
        "\n",
        "Part A\n",
        "*   Select **TWO** variables from Task 3. Treat these as an independent variable.\n",
        "*   Now create a scatterplot for each variable.\n",
        "*   In each case, the plot should visualize the relationship between the variable and **weight** (dependent variable).\n",
        "*   Describe each scatterplot in terms of the **form**, **strength**, and **direction** of the relationship between the variables.   \n",
        "\n",
        "Part B\n",
        "*   Examine if the relationship explored in each scatterplot varies **by gender**.\n",
        "*   Hint: You will need to create scatterplots separately for each gender to answer this question."
      ]
    },
    {
      "cell_type": "markdown",
      "id": "qilSNQWncsht",
      "metadata": {
        "id": "qilSNQWncsht"
      },
      "source": []
    },
    {
      "cell_type": "code",
      "execution_count": null,
      "id": "99f178ad",
      "metadata": {
        "id": "99f178ad"
      },
      "outputs": [],
      "source": [
        "#Sample code:\n",
        "import pandas\n",
        "import numpy as np\n",
        "from scipy import stats\n",
        "import matplotlib.pyplot as plt\n",
        "import statsmodels.api as statsmodels\n",
        "\n",
        "#display the correlation coefficient\n",
        "corr=stats.stats.pearsonr(df[\"Column A\"],df[\"Column B\"])[0]\n",
        "print(\"correlation coefficient =\", corr)\n",
        "\n",
        "#display the scatterplot\n",
        "plt.scatter(df[\"Column A\"],df[\"Column B\"])\n",
        "plt.title (\"Column A vs Column B\")\n",
        "plt.xlabel(\"Column A\")\n",
        "plt.ylabel(\"Column B\")\n",
        "plt.show()"
      ]
    },
    {
      "cell_type": "markdown",
      "id": "NstK-8JcnSji",
      "metadata": {
        "id": "NstK-8JcnSji"
      },
      "source": [
        "**Task 5 Answer:**\n",
        "\n",
        "\n"
      ]
    },
    {
      "cell_type": "code",
      "execution_count": null,
      "id": "c809b5de",
      "metadata": {
        "id": "c809b5de"
      },
      "outputs": [],
      "source": [
        "#Write your code for Task 5."
      ]
    },
    {
      "cell_type": "markdown",
      "id": "gdgvV7rES-2N",
      "metadata": {
        "id": "gdgvV7rES-2N"
      },
      "source": [
        "DOUBLE CLICK TO **ADD YOUR TEXT FOR TASK 5 HERE**"
      ]
    },
    {
      "cell_type": "markdown",
      "id": "14c53306",
      "metadata": {
        "id": "14c53306"
      },
      "source": [
        "**Task 6.**\n",
        "\n",
        "PART A\n",
        "\n",
        "Finally, for each of the variables you focused on in Task 5:\n",
        "*   Fit a simple linear regression model that predicts a participant's **Weight** based on the variable you selected.\n",
        "*   Make sure you generate, interpret, and use the residual plot, the standard error, and the R^2 to assess the fit of each linear model.\n",
        "*   If the model is a good fit, interpret the slope and the y-intercept.   \n",
        "\n",
        "PART B\n",
        "\n",
        "**If you found that the relationship between weight and the variable you selected differed for males and females in Task 5 (Part B) then**:\n",
        "\n",
        "*   Run the regression model for each gender separately and interpret your findings accordingly.   \n"
      ]
    },
    {
      "cell_type": "code",
      "execution_count": null,
      "id": "414d2c1c",
      "metadata": {
        "id": "414d2c1c"
      },
      "outputs": [],
      "source": [
        "#Sample code:\n",
        "import pandas\n",
        "import numpy as np\n",
        "from scipy import stats\n",
        "import matplotlib.pyplot as plt\n",
        "import statsmodels.api as statsmodels\n",
        "import seaborn as sns\n",
        "def regression_equation(column_x, column_y):\n",
        "    # fit the regression line using \"statsmodels\" library:\n",
        "    X= df[column_x]\n",
        "    X = statsmodels.add_constant(X)\n",
        "    Y = df[column_y]\n",
        "    regressionmodel = statsmodels.OLS(Y,X).fit() #OLS stands for \"ordinary least squares\"\n",
        "    print('R2: ', round(regressionmodel.rsquared, 3))\n",
        "    SE=np.sqrt(regressionmodel.mse_resid)\n",
        "    print ('SE=', round(SE, 3))\n",
        "\n",
        "     #display the correlation coefficient\n",
        "    correlation_coefficient=stats.stats.pearsonr(df[column_x],df[column_y])[0]\n",
        "    print(\"correlation_coefficient=\", round(correlation_coefficient,3))\n",
        "\n",
        "    # extract regression parameters from model, rounded to 2 decimal places and print the regression equation:\n",
        "    slope = round(regressionmodel.params[1],3)\n",
        "    intercept = round(regressionmodel.params[0],3)\n",
        "    print(\"Regression equation: \"+column_y+\" = \",slope,\"* \"+column_x+\" + \",intercept)\n",
        "\n",
        "    #display the scatter plot with the line of best fit\n",
        "    plt.scatter(df[column_x], Y, color='green')\n",
        "    plt.xlabel(column_x)\n",
        "    plt.ylabel(column_y)\n",
        "    plt.plot(df[column_x], regressionmodel.params[1]*df[column_x]+regressionmodel.params[0], color='red')\n",
        "    plt.show()\n",
        "    #display the residual plot\n",
        "    sns.residplot(x = column_x,\n",
        "              y = column_y,\n",
        "              data = df)\n",
        "    plt.show()\n",
        "    #display the residual plot with SE\n",
        "    sns.residplot(x = column_x,\n",
        "              y = column_y,\n",
        "              data = df)\n",
        "    plt.axhline(y=SE, color='r', linestyle='--')\n",
        "    plt.axhline(y=-SE, color='r', linestyle='--')\n",
        "    plt.show()\n",
        "regression_equation(\"Independent Variable\", \"Dependent Variable\")"
      ]
    },
    {
      "cell_type": "markdown",
      "id": "V1iNwbRHnulF",
      "metadata": {
        "id": "V1iNwbRHnulF"
      },
      "source": [
        "**Task 6 Answer:**\n",
        "\n",
        "\n"
      ]
    },
    {
      "cell_type": "code",
      "execution_count": null,
      "id": "ea79de58",
      "metadata": {
        "id": "ea79de58"
      },
      "outputs": [],
      "source": [
        "#Write your code for Task 6."
      ]
    },
    {
      "cell_type": "markdown",
      "id": "vmIvCiheT0HP",
      "metadata": {
        "id": "vmIvCiheT0HP"
      },
      "source": [
        "DOUBLE CLICK TO **ADD YOUR TEXT FOR TASK 6 HERE**"
      ]
    }
  ],
  "metadata": {
    "colab": {
      "provenance": []
    },
    "kernelspec": {
      "display_name": "Python 3 (ipykernel)",
      "language": "python",
      "name": "python3"
    },
    "language_info": {
      "codemirror_mode": {
        "name": "ipython",
        "version": 3
      },
      "file_extension": ".py",
      "mimetype": "text/x-python",
      "name": "python",
      "nbconvert_exporter": "python",
      "pygments_lexer": "ipython3",
      "version": "3.9.12"
    }
  },
  "nbformat": 4,
  "nbformat_minor": 5
}
