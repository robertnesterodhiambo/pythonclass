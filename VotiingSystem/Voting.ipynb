{
 "cells": [
  {
   "cell_type": "code",
   "execution_count": 1,
   "metadata": {},
   "outputs": [
    {
     "name": "stdout",
     "output_type": "stream",
     "text": [
      "Defaulting to user installation because normal site-packages is not writeable\n",
      "Requirement already satisfied: pillow in /usr/lib/python3/dist-packages (10.3.0)\n",
      "Note: you may need to restart the kernel to use updated packages.\n"
     ]
    }
   ],
   "source": [
    "pip install pillow\n"
   ]
  },
  {
   "cell_type": "code",
   "execution_count": 2,
   "metadata": {},
   "outputs": [],
   "source": [
    "import tkinter as tk\n",
    "from tkinter import ttk\n",
    "from PIL import Image, ImageTk\n",
    "\n",
    "def adjust_window_size(event):\n",
    "    content_frame.place(relwidth=0.95, relheight=0.95, relx=0.5, rely=0.5, anchor='center')\n",
    "\n",
    "root = tk.Tk()\n",
    "root.title(\"Beautiful Responsive Form\")\n",
    "root.geometry(\"500x600\")\n",
    "root.configure(bg=\"#282c34\")\n",
    "root.bind('<Configure>', adjust_window_size)\n",
    "\n",
    "# Create a style\n",
    "style = ttk.Style()\n",
    "style.theme_use(\"clam\")\n",
    "\n",
    "# Style configuration\n",
    "style.configure(\"TLabel\", background=\"#f0f0f0\", foreground=\"#333\", padding=6, font=('Helvetica', 12))\n",
    "style.configure(\"TEntry\", padding=6, font=('Helvetica', 12))\n",
    "style.configure(\"TButton\", background=\"#61afef\", foreground=\"white\", padding=6, font=('Helvetica', 12, 'bold'))\n",
    "\n",
    "# Create a frame with a box shadow effect\n",
    "shadow_frame = tk.Frame(root, bg=\"#61afef\", bd=0)\n",
    "shadow_frame.place(relwidth=0.98, relheight=0.98, relx=0.5, rely=0.5, anchor='center')\n",
    "\n",
    "content_frame = tk.Frame(shadow_frame, bg=\"#f0f0f0\", bd=0)\n",
    "content_frame.place(relwidth=1, relheight=1, relx=0.5, rely=0.5, anchor='center')\n",
    "\n",
    "# Create and place the form widgets\n",
    "fields = ['First Name', 'Second Name', 'Last Name', 'Date of Birth', 'ID Number', 'Place of Birth', 'Password']\n",
    "entries = {}\n",
    "\n",
    "for i, field in enumerate(fields):\n",
    "    label = ttk.Label(content_frame, text=field)\n",
    "    label.grid(row=i, column=0, sticky='w', padx=10, pady=10)\n",
    "    \n",
    "    if field == 'Password':\n",
    "        entry = ttk.Entry(content_frame, show='*')\n",
    "    else:\n",
    "        entry = ttk.Entry(content_frame)\n",
    "    \n",
    "    entry.grid(row=i, column=1, sticky='ew', padx=10, pady=10)\n",
    "    entries[field] = entry\n",
    "\n",
    "# Add a submit button\n",
    "submit_button = ttk.Button(content_frame, text=\"Submit\")\n",
    "submit_button.grid(row=len(fields), column=0, columnspan=2, pady=20)\n",
    "\n",
    "# Configure grid to make the content_frame responsive\n",
    "content_frame.columnconfigure(1, weight=1)\n",
    "content_frame.rowconfigure(len(fields), weight=1)\n",
    "\n",
    "root.mainloop()\n"
   ]
  }
 ],
 "metadata": {
  "kernelspec": {
   "display_name": "Python 3",
   "language": "python",
   "name": "python3"
  },
  "language_info": {
   "codemirror_mode": {
    "name": "ipython",
    "version": 3
   },
   "file_extension": ".py",
   "mimetype": "text/x-python",
   "name": "python",
   "nbconvert_exporter": "python",
   "pygments_lexer": "ipython3",
   "version": "3.11.9"
  }
 },
 "nbformat": 4,
 "nbformat_minor": 2
}
